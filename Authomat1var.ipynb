{
  "nbformat": 4,
  "nbformat_minor": 0,
  "metadata": {
    "colab": {
      "provenance": [],
      "authorship_tag": "ABX9TyMsczggpMTNu99Eko3w56J/",
      "include_colab_link": true
    },
    "kernelspec": {
      "name": "python3",
      "display_name": "Python 3"
    },
    "language_info": {
      "name": "python"
    }
  },
  "cells": [
    {
      "cell_type": "markdown",
      "metadata": {
        "id": "view-in-github",
        "colab_type": "text"
      },
      "source": [
        "<a href=\"https://colab.research.google.com/github/snickers24/Stone-iceland/blob/main/Authomat1var.ipynb\" target=\"_parent\"><img src=\"https://colab.research.google.com/assets/colab-badge.svg\" alt=\"Open In Colab\"/></a>"
      ]
    },
    {
      "cell_type": "code",
      "execution_count": 2,
      "metadata": {
        "colab": {
          "base_uri": "https://localhost:8080/",
          "height": 705
        },
        "id": "b0G6IUjiPYdt",
        "outputId": "2886c7f0-b79c-493e-9b73-f6ee3a464ec1"
      },
      "outputs": [
        {
          "output_type": "stream",
          "name": "stdout",
          "text": [
            "Выберите действие:\n",
            "1. Вычисление расстояния между точками\n",
            "2. Создание множества и словаря\n",
            "3. Определить минимальное и максимальное значения\n",
            "4. Сохранить данные в Excel и вывести на экран\n",
            "0. Выход\n",
            "3\n",
            "Введите элементы списка через запятую: 1,2,3,4,5,6,7\n",
            "Список: [1, 2, 3, 4, 5, 6, 7]\n",
            "Минимальное значение: 1\n",
            "Максимальное значение: 7\n",
            "Выберите действие:\n",
            "1. Вычисление расстояния между точками\n",
            "2. Создание множества и словаря\n",
            "3. Определить минимальное и максимальное значения\n",
            "4. Сохранить данные в Excel и вывести на экран\n",
            "0. Выход\n"
          ]
        },
        {
          "output_type": "error",
          "ename": "KeyboardInterrupt",
          "evalue": "ignored",
          "traceback": [
            "\u001b[0;31m---------------------------------------------------------------------------\u001b[0m",
            "\u001b[0;31mKeyboardInterrupt\u001b[0m                         Traceback (most recent call last)",
            "\u001b[0;32m<ipython-input-2-9a7660bca2de>\u001b[0m in \u001b[0;36m<cell line: 54>\u001b[0;34m()\u001b[0m\n\u001b[1;32m     59\u001b[0m     \u001b[0mprint\u001b[0m\u001b[0;34m(\u001b[0m\u001b[0;34m\"4. Сохранить данные в Excel и вывести на экран\"\u001b[0m\u001b[0;34m)\u001b[0m\u001b[0;34m\u001b[0m\u001b[0;34m\u001b[0m\u001b[0m\n\u001b[1;32m     60\u001b[0m     \u001b[0mprint\u001b[0m\u001b[0;34m(\u001b[0m\u001b[0;34m\"0. Выход\"\u001b[0m\u001b[0;34m)\u001b[0m\u001b[0;34m\u001b[0m\u001b[0;34m\u001b[0m\u001b[0m\n\u001b[0;32m---> 61\u001b[0;31m     \u001b[0mchoice\u001b[0m \u001b[0;34m=\u001b[0m \u001b[0mint\u001b[0m\u001b[0;34m(\u001b[0m\u001b[0minput\u001b[0m\u001b[0;34m(\u001b[0m\u001b[0;34m)\u001b[0m\u001b[0;34m)\u001b[0m\u001b[0;34m\u001b[0m\u001b[0;34m\u001b[0m\u001b[0m\n\u001b[0m\u001b[1;32m     62\u001b[0m     \u001b[0;32mif\u001b[0m \u001b[0mchoice\u001b[0m \u001b[0;34m==\u001b[0m \u001b[0;36m1\u001b[0m\u001b[0;34m:\u001b[0m\u001b[0;34m\u001b[0m\u001b[0;34m\u001b[0m\u001b[0m\n\u001b[1;32m     63\u001b[0m         \u001b[0mcalculate_distance\u001b[0m\u001b[0;34m(\u001b[0m\u001b[0;34m)\u001b[0m\u001b[0;34m\u001b[0m\u001b[0;34m\u001b[0m\u001b[0m\n",
            "\u001b[0;32m/usr/local/lib/python3.10/dist-packages/ipykernel/kernelbase.py\u001b[0m in \u001b[0;36mraw_input\u001b[0;34m(self, prompt)\u001b[0m\n\u001b[1;32m    849\u001b[0m                 \u001b[0;34m\"raw_input was called, but this frontend does not support input requests.\"\u001b[0m\u001b[0;34m\u001b[0m\u001b[0;34m\u001b[0m\u001b[0m\n\u001b[1;32m    850\u001b[0m             )\n\u001b[0;32m--> 851\u001b[0;31m         return self._input_request(str(prompt),\n\u001b[0m\u001b[1;32m    852\u001b[0m             \u001b[0mself\u001b[0m\u001b[0;34m.\u001b[0m\u001b[0m_parent_ident\u001b[0m\u001b[0;34m,\u001b[0m\u001b[0;34m\u001b[0m\u001b[0;34m\u001b[0m\u001b[0m\n\u001b[1;32m    853\u001b[0m             \u001b[0mself\u001b[0m\u001b[0;34m.\u001b[0m\u001b[0m_parent_header\u001b[0m\u001b[0;34m,\u001b[0m\u001b[0;34m\u001b[0m\u001b[0;34m\u001b[0m\u001b[0m\n",
            "\u001b[0;32m/usr/local/lib/python3.10/dist-packages/ipykernel/kernelbase.py\u001b[0m in \u001b[0;36m_input_request\u001b[0;34m(self, prompt, ident, parent, password)\u001b[0m\n\u001b[1;32m    893\u001b[0m             \u001b[0;32mexcept\u001b[0m \u001b[0mKeyboardInterrupt\u001b[0m\u001b[0;34m:\u001b[0m\u001b[0;34m\u001b[0m\u001b[0;34m\u001b[0m\u001b[0m\n\u001b[1;32m    894\u001b[0m                 \u001b[0;31m# re-raise KeyboardInterrupt, to truncate traceback\u001b[0m\u001b[0;34m\u001b[0m\u001b[0;34m\u001b[0m\u001b[0m\n\u001b[0;32m--> 895\u001b[0;31m                 \u001b[0;32mraise\u001b[0m \u001b[0mKeyboardInterrupt\u001b[0m\u001b[0;34m(\u001b[0m\u001b[0;34m\"Interrupted by user\"\u001b[0m\u001b[0;34m)\u001b[0m \u001b[0;32mfrom\u001b[0m \u001b[0;32mNone\u001b[0m\u001b[0;34m\u001b[0m\u001b[0;34m\u001b[0m\u001b[0m\n\u001b[0m\u001b[1;32m    896\u001b[0m             \u001b[0;32mexcept\u001b[0m \u001b[0mException\u001b[0m \u001b[0;32mas\u001b[0m \u001b[0me\u001b[0m\u001b[0;34m:\u001b[0m\u001b[0;34m\u001b[0m\u001b[0;34m\u001b[0m\u001b[0m\n\u001b[1;32m    897\u001b[0m                 \u001b[0mself\u001b[0m\u001b[0;34m.\u001b[0m\u001b[0mlog\u001b[0m\u001b[0;34m.\u001b[0m\u001b[0mwarning\u001b[0m\u001b[0;34m(\u001b[0m\u001b[0;34m\"Invalid Message:\"\u001b[0m\u001b[0;34m,\u001b[0m \u001b[0mexc_info\u001b[0m\u001b[0;34m=\u001b[0m\u001b[0;32mTrue\u001b[0m\u001b[0;34m)\u001b[0m\u001b[0;34m\u001b[0m\u001b[0;34m\u001b[0m\u001b[0m\n",
            "\u001b[0;31mKeyboardInterrupt\u001b[0m: Interrupted by user"
          ]
        }
      ],
      "source": [
        "import sqlite3\n",
        "import pandas as pd\n",
        "\n",
        "# Создаем базу данных и таблицу\n",
        "conn = sqlite3.connect('mydb.db')\n",
        "c = conn.cursor()\n",
        "c.execute('''CREATE TABLE IF NOT EXISTS points\n",
        "             (id INTEGER PRIMARY KEY,\n",
        "             x1 REAL,\n",
        "             y1 REAL,\n",
        "             x2 REAL,\n",
        "             y2 REAL,\n",
        "             distance REAL)''')\n",
        "conn.commit()\n",
        "\n",
        "# Функция для вычисления расстояния между точками и сохранения в базу данных\n",
        "def calculate_distance():\n",
        "    x1 = float(input(\"Введите координату x1: \"))\n",
        "    y1 = float(input(\"Введите координату y1: \"))\n",
        "    x2 = float(input(\"Введите координату x2: \"))\n",
        "    y2 = float(input(\"Введите координату y2: \"))\n",
        "    distance = ((x2 - x1)**2 + (y2 - y1)**2)**0.5\n",
        "    c.execute(\"INSERT INTO points (x1, y1, x2, y2, distance) VALUES (?, ?, ?, ?, ?)\", (x1, y1, x2, y2, distance))\n",
        "    conn.commit()\n",
        "    print(f\"Расстояние между точками ({x1}, {y1}) и ({x2}, {y2}) равно {distance}\")\n",
        "    \n",
        "# Функция для создания множества и словаря и сохранения в базу данных\n",
        "def create_set_and_dict():\n",
        "    my_set = set(input(\"Введите элементы множества через запятую: \").split(\",\"))\n",
        "    my_dict = dict(enumerate(my_set))\n",
        "    c.execute(\"INSERT INTO points (x1, y1, x2, y2, distance) VALUES (?, ?, ?, ?, ?)\", (str(my_set), str(my_dict), \"\", \"\", \"\"))\n",
        "    conn.commit()\n",
        "    print(f\"Множество: {my_set}\")\n",
        "    print(f\"Словарь: {my_dict}\")\n",
        "    \n",
        "# Функция для определения минимального и максимального значения и сохранения в базу данных\n",
        "def find_min_max():\n",
        "    my_list = list(map(int, input(\"Введите элементы списка через запятую: \").split(\",\")))\n",
        "    min_val = min(my_list)\n",
        "    max_val = max(my_list)\n",
        "    c.execute(\"INSERT INTO points (x1, y1, x2, y2, distance) VALUES (?, ?, ?, ?, ?)\", (str(my_list), min_val, max_val, \"\", \"\"))\n",
        "    conn.commit()\n",
        "    print(f\"Список: {my_list}\")\n",
        "    print(f\"Минимальное значение: {min_val}\")\n",
        "    print(f\"Максимальное значение: {max_val}\")\n",
        "    \n",
        "# Функция для сохранения данных из базы данных в Excel и вывода на экран\n",
        "def save_to_excel():\n",
        "    df = pd.read_sql_query(\"SELECT * from points\", conn)\n",
        "    df.to_excel(\"output.xlsx\", index=False)\n",
        "    print(df)\n",
        "\n",
        "# Основной код для вывода меню и выполнения выбранной задачи\n",
        "while True:\n",
        "    print(\"Выберите действие:\")\n",
        "    print(\"1. Вычисление расстояния между точками\")\n",
        "    print(\"2. Создание множества и словаря\")\n",
        "    print(\"3. Определить минимальное и максимальное значения\")\n",
        "    print(\"4. Сохранить данные в Excel и вывести на экран\")\n",
        "    print(\"0. Выход\")\n",
        "    choice = int(input())\n",
        "    if choice == 1:\n",
        "        calculate_distance()\n",
        "    elif choice == 2:\n",
        "        create_set_and_dict()\n",
        "    elif choice == 3:\n",
        "        find_min_max()\n",
        "    elif choice == 4:\n",
        "        save_to_excel()\n",
        "    elif choice == 0:\n",
        "        break\n",
        "    else:\n",
        "        print(\"Неверный выбор, попробуйте еще раз\")\n"
      ]
    }
  ]
}